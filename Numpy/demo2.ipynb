{
 "cells": [
  {
   "cell_type": "code",
   "execution_count": 4,
   "id": "fc6aa4f4",
   "metadata": {},
   "outputs": [],
   "source": [
    "import numpy as np"
   ]
  },
  {
   "cell_type": "code",
   "execution_count": 5,
   "id": "e7d8b34d",
   "metadata": {},
   "outputs": [],
   "source": [
    "x = np.arange(8)"
   ]
  },
  {
   "cell_type": "code",
   "execution_count": 6,
   "id": "4f54e454",
   "metadata": {},
   "outputs": [
    {
     "name": "stdout",
     "output_type": "stream",
     "text": [
      "[0 1 2 3 4 5 6 7]\n"
     ]
    }
   ],
   "source": [
    "print(x)"
   ]
  },
  {
   "cell_type": "code",
   "execution_count": 9,
   "id": "9155a5cc",
   "metadata": {},
   "outputs": [
    {
     "name": "stdout",
     "output_type": "stream",
     "text": [
      "[[ 0  1  2  3]\n",
      " [ 4  5  6  7]\n",
      " [ 8  9 10 11]\n",
      " [12 13 14 15]]\n"
     ]
    }
   ],
   "source": [
    "y = np.arange(16).reshape(4,4)\n",
    "print(y)"
   ]
  },
  {
   "cell_type": "code",
   "execution_count": 11,
   "id": "56850df9",
   "metadata": {},
   "outputs": [
    {
     "name": "stdout",
     "output_type": "stream",
     "text": [
      "[[[ 0  1  2]\n",
      "  [ 3  4  5]\n",
      "  [ 6  7  8]\n",
      "  [ 9 10 11]]\n",
      "\n",
      " [[12 13 14]\n",
      "  [15 16 17]\n",
      "  [18 19 20]\n",
      "  [21 22 23]]\n",
      "\n",
      " [[24 25 26]\n",
      "  [27 28 29]\n",
      "  [30 31 32]\n",
      "  [33 34 35]]]\n"
     ]
    }
   ],
   "source": [
    "z = np.arange(36).reshape(3,4,3)\n",
    "print(z)"
   ]
  },
  {
   "cell_type": "code",
   "execution_count": 13,
   "id": "df3d5290",
   "metadata": {},
   "outputs": [
    {
     "name": "stdout",
     "output_type": "stream",
     "text": [
      "[    0     1     2 ... 12097 12098 12099]\n"
     ]
    }
   ],
   "source": [
    "print(np.arange(12100))\n"
   ]
  },
  {
   "cell_type": "code",
   "execution_count": 15,
   "id": "924f2950",
   "metadata": {},
   "outputs": [
    {
     "name": "stdout",
     "output_type": "stream",
     "text": [
      "[[    0     1     2 ...   107   108   109]\n",
      " [  110   111   112 ...   217   218   219]\n",
      " [  220   221   222 ...   327   328   329]\n",
      " ...\n",
      " [11770 11771 11772 ... 11877 11878 11879]\n",
      " [11880 11881 11882 ... 11987 11988 11989]\n",
      " [11990 11991 11992 ... 12097 12098 12099]]\n"
     ]
    }
   ],
   "source": [
    "print(np.arange(12100).reshape(110,110))"
   ]
  },
  {
   "cell_type": "code",
   "execution_count": 18,
   "id": "0fc963cd",
   "metadata": {},
   "outputs": [
    {
     "name": "stdout",
     "output_type": "stream",
     "text": [
      "[[ 0  1  2 ...  7  8  9]\n",
      " [10 11 12 ... 17 18 19]\n",
      " [20 21 22 ... 27 28 29]\n",
      " ...\n",
      " [70 71 72 ... 77 78 79]\n",
      " [80 81 82 ... 87 88 89]\n",
      " [90 91 92 ... 97 98 99]]\n"
     ]
    }
   ],
   "source": [
    "np.set_printoptions(threshold = 50)\n",
    "print(np.arange(100).reshape(10,10))"
   ]
  },
  {
   "cell_type": "code",
   "execution_count": null,
   "id": "015a0de1",
   "metadata": {},
   "outputs": [],
   "source": []
  }
 ],
 "metadata": {
  "kernelspec": {
   "display_name": "Python 3 (ipykernel)",
   "language": "python",
   "name": "python3"
  },
  "language_info": {
   "codemirror_mode": {
    "name": "ipython",
    "version": 3
   },
   "file_extension": ".py",
   "mimetype": "text/x-python",
   "name": "python",
   "nbconvert_exporter": "python",
   "pygments_lexer": "ipython3",
   "version": "3.10.0"
  }
 },
 "nbformat": 4,
 "nbformat_minor": 5
}
