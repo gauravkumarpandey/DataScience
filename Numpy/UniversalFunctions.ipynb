{
 "cells": [
  {
   "cell_type": "code",
   "execution_count": 1,
   "id": "d57a692a",
   "metadata": {},
   "outputs": [],
   "source": [
    "import numpy as np"
   ]
  },
  {
   "cell_type": "code",
   "execution_count": 3,
   "id": "1f8825fd",
   "metadata": {},
   "outputs": [
    {
     "data": {
      "text/plain": [
       "array([290, 240, 180, 120,  90,  60])"
      ]
     },
     "execution_count": 3,
     "metadata": {},
     "output_type": "execute_result"
    }
   ],
   "source": [
    "circle_redii = np.array([145, 120, 90, 60, 45, 30])\n",
    "circle_diamter = circle_redii * 2\n",
    "circle_diamter"
   ]
  },
  {
   "cell_type": "code",
   "execution_count": 4,
   "id": "3bbf7f07",
   "metadata": {},
   "outputs": [
    {
     "data": {
      "text/plain": [
       "array([66051.98554173, 45238.93421169, 25446.90049408, 11309.73355292,\n",
       "        6361.72512352,  2827.43338823])"
      ]
     },
     "execution_count": 4,
     "metadata": {},
     "output_type": "execute_result"
    }
   ],
   "source": [
    "circle_area = np.pi * circle_redii**2\n",
    "circle_area"
   ]
  },
  {
   "cell_type": "code",
   "execution_count": 5,
   "id": "64817312",
   "metadata": {},
   "outputs": [],
   "source": [
    "angle_degree = np.array([0 , 30 , 60 , 90, 120, 150, 180])"
   ]
  },
  {
   "cell_type": "code",
   "execution_count": 7,
   "id": "72fcfda2",
   "metadata": {},
   "outputs": [
    {
     "data": {
      "text/plain": [
       "array([0.        , 0.52359878, 1.04719755, 1.57079633, 2.0943951 ,\n",
       "       2.61799388, 3.14159265])"
      ]
     },
     "execution_count": 7,
     "metadata": {},
     "output_type": "execute_result"
    }
   ],
   "source": [
    "angle_redian = angle_degree * np.pi /180\n",
    "angle_redian"
   ]
  },
  {
   "cell_type": "code",
   "execution_count": 8,
   "id": "ba24c9b0",
   "metadata": {},
   "outputs": [
    {
     "name": "stdout",
     "output_type": "stream",
     "text": [
      "sine value\n"
     ]
    },
    {
     "data": {
      "text/plain": [
       "array([0.00000000e+00, 5.00000000e-01, 8.66025404e-01, 1.00000000e+00,\n",
       "       8.66025404e-01, 5.00000000e-01, 1.22464680e-16])"
      ]
     },
     "execution_count": 8,
     "metadata": {},
     "output_type": "execute_result"
    }
   ],
   "source": [
    "print ('sine value')\n",
    "np.sin(angle_redian)"
   ]
  },
  {
   "cell_type": "code",
   "execution_count": 9,
   "id": "5eeef206",
   "metadata": {},
   "outputs": [
    {
     "name": "stdout",
     "output_type": "stream",
     "text": [
      "cos values\n"
     ]
    },
    {
     "data": {
      "text/plain": [
       "array([ 1.00000000e+00,  8.66025404e-01,  5.00000000e-01,  6.12323400e-17,\n",
       "       -5.00000000e-01, -8.66025404e-01, -1.00000000e+00])"
      ]
     },
     "execution_count": 9,
     "metadata": {},
     "output_type": "execute_result"
    }
   ],
   "source": [
    "print ('cos values')\n",
    "np.cos(angle_redian)"
   ]
  },
  {
   "cell_type": "code",
   "execution_count": 10,
   "id": "41dc074d",
   "metadata": {},
   "outputs": [
    {
     "name": "stdout",
     "output_type": "stream",
     "text": [
      "tan values\n"
     ]
    },
    {
     "data": {
      "text/plain": [
       "array([ 0.00000000e+00,  5.77350269e-01,  1.73205081e+00,  1.63312394e+16,\n",
       "       -1.73205081e+00, -5.77350269e-01, -1.22464680e-16])"
      ]
     },
     "execution_count": 10,
     "metadata": {},
     "output_type": "execute_result"
    }
   ],
   "source": [
    "print ('tan values')\n",
    "np.tan(angle_redian)"
   ]
  },
  {
   "cell_type": "code",
   "execution_count": 11,
   "id": "d487c7e4",
   "metadata": {},
   "outputs": [],
   "source": [
    "sine_values = np.sin(angle_redian)"
   ]
  },
  {
   "cell_type": "code",
   "execution_count": 13,
   "id": "69eea80d",
   "metadata": {},
   "outputs": [
    {
     "name": "stdout",
     "output_type": "stream",
     "text": [
      "[0.00000000e+00 5.23598776e-01 1.04719755e+00 1.57079633e+00\n",
      " 1.04719755e+00 5.23598776e-01 1.22464680e-16]\n"
     ]
    }
   ],
   "source": [
    "arcsine_values = np.arcsin(sine_values)\n",
    "print(arcsine_values)"
   ]
  },
  {
   "cell_type": "code",
   "execution_count": 14,
   "id": "71f8fc7f",
   "metadata": {},
   "outputs": [
    {
     "data": {
      "text/plain": [
       "array([ 4,  9, 14, 19, 24, 29])"
      ]
     },
     "execution_count": 14,
     "metadata": {},
     "output_type": "execute_result"
    }
   ],
   "source": [
    "x = np.arange(4, 31, 5)\n",
    "x"
   ]
  },
  {
   "cell_type": "code",
   "execution_count": 15,
   "id": "c3eefb28",
   "metadata": {},
   "outputs": [
    {
     "data": {
      "text/plain": [
       "array([5.45981500e+01, 8.10308393e+03, 1.20260428e+06, 1.78482301e+08,\n",
       "       2.64891221e+10, 3.93133430e+12])"
      ]
     },
     "execution_count": 15,
     "metadata": {},
     "output_type": "execute_result"
    }
   ],
   "source": [
    "expo = np.exp(x)\n",
    "expo"
   ]
  },
  {
   "cell_type": "code",
   "execution_count": 16,
   "id": "1c206062",
   "metadata": {},
   "outputs": [
    {
     "data": {
      "text/plain": [
       "array([2.        , 3.        , 3.74165739, 4.35889894, 4.89897949,\n",
       "       5.38516481])"
      ]
     },
     "execution_count": 16,
     "metadata": {},
     "output_type": "execute_result"
    }
   ],
   "source": [
    "sqrt = np.sqrt(x)\n",
    "sqrt"
   ]
  },
  {
   "cell_type": "code",
   "execution_count": 17,
   "id": "81feb8d1",
   "metadata": {},
   "outputs": [],
   "source": [
    "float_values = np.genfromtxt('datasets/float_values.csv', delimiter= ',')"
   ]
  },
  {
   "cell_type": "code",
   "execution_count": 18,
   "id": "d7f48845",
   "metadata": {},
   "outputs": [
    {
     "data": {
      "text/plain": [
       "array([0.8944, 0.8898, 0.8894, ..., 0.7051, 0.6992, 0.7047])"
      ]
     },
     "execution_count": 18,
     "metadata": {},
     "output_type": "execute_result"
    }
   ],
   "source": [
    "float_values"
   ]
  },
  {
   "cell_type": "code",
   "execution_count": 20,
   "id": "cef2d917",
   "metadata": {},
   "outputs": [
    {
     "data": {
      "text/plain": [
       "(5998,)"
      ]
     },
     "execution_count": 20,
     "metadata": {},
     "output_type": "execute_result"
    }
   ],
   "source": [
    "float_values.shape"
   ]
  },
  {
   "cell_type": "code",
   "execution_count": 25,
   "id": "af85b2cd",
   "metadata": {},
   "outputs": [
    {
     "name": "stdout",
     "output_type": "stream",
     "text": [
      "Mean = 16\n",
      "Median = 5\n",
      "Variance = 1659\n",
      "Standard Deviation = 40\n"
     ]
    }
   ],
   "source": [
    "print('Mean = %i' %np.mean(float_values))\n",
    "print('Median = %i' %np.median(float_values))\n",
    "print('Variance = %i' %np.var(float_values))\n",
    "print('Standard Deviation = %i' %np.std(float_values))"
   ]
  },
  {
   "cell_type": "code",
   "execution_count": null,
   "id": "22603f25",
   "metadata": {},
   "outputs": [],
   "source": []
  }
 ],
 "metadata": {
  "kernelspec": {
   "display_name": "Python 3 (ipykernel)",
   "language": "python",
   "name": "python3"
  },
  "language_info": {
   "codemirror_mode": {
    "name": "ipython",
    "version": 3
   },
   "file_extension": ".py",
   "mimetype": "text/x-python",
   "name": "python",
   "nbconvert_exporter": "python",
   "pygments_lexer": "ipython3",
   "version": "3.10.0"
  }
 },
 "nbformat": 4,
 "nbformat_minor": 5
}
